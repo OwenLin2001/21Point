{
 "cells": [
  {
   "cell_type": "code",
   "execution_count": 111,
   "metadata": {},
   "outputs": [],
   "source": [
    "import numpy as np\n",
    "import pandas as pd\n",
    "import matplotlib.pyplot as plt\n",
    "import os"
   ]
  },
  {
   "cell_type": "code",
   "execution_count": 30,
   "metadata": {},
   "outputs": [
    {
     "data": {
      "text/plain": [
       "4"
      ]
     },
     "execution_count": 30,
     "metadata": {},
     "output_type": "execute_result"
    }
   ],
   "source": [
    "def MostCount(list1):\n",
    "    '''\n",
    "    return the element that appear the most amount of times (mode)\n",
    "    '''\n",
    "    anchor = 0\n",
    "    position = 0\n",
    "    for i in np.arange(len(list1)):\n",
    "        repeat_time = sum(list1[i] == list1)\n",
    "        if repeat_time > anchor:\n",
    "            anchor = repeat_time\n",
    "            position = i\n",
    "    return list1[position]\n",
    "\n",
    "\n",
    "list1 = np.array([2, 3, 4, 5, 3, 2, 4, 4, 6])\n",
    "MostCount(list1)"
   ]
  },
  {
   "cell_type": "code",
   "execution_count": 31,
   "metadata": {},
   "outputs": [
    {
     "data": {
      "text/plain": [
       "5"
      ]
     },
     "execution_count": 31,
     "metadata": {},
     "output_type": "execute_result"
    }
   ],
   "source": [
    "def LeastCount(list1):\n",
    "    '''\n",
    "    return the element that appear the least amount of times\n",
    "    '''\n",
    "    anchor = np.inf\n",
    "    position = 0\n",
    "    for i in np.arange(len(list1)):\n",
    "        repeat_time = sum(list1[i] == list1)\n",
    "        if repeat_time < anchor:\n",
    "            anchor = repeat_time\n",
    "            position = i\n",
    "    return list1[position]\n",
    "\n",
    "\n",
    "list1 = np.array([2, 3, 4, 5, 3, 2, 4, 4, 6])\n",
    "LeastCount(list1)"
   ]
  },
  {
   "cell_type": "code",
   "execution_count": 116,
   "metadata": {},
   "outputs": [
    {
     "name": "stdout",
     "output_type": "stream",
     "text": [
      "['Club 10', 'Spade 10']\n",
      "['Diamond 3', 'Club 9']\n",
      "['Club 10', 'Spade 10']\n",
      "['Diamond 3', 'Club 9', 'Heart J']\n",
      "['Club 10', 'Spade 10']\n",
      "['Diamond 3', 'Club 9', 'Heart J']\n",
      "['Club 10', 'Spade 10']\n",
      "['Diamond 3', 'Club 9', 'Heart J']\n",
      "[['Club 10', 'Spade 10'], ['Diamond 3', 'Club 9', 'Heart J']]\n"
     ]
    }
   ],
   "source": [
    "# Create a deck\n",
    "player_number = input(\"How many player?\")\n",
    "player_number = int(player_number)\n",
    "Suit = np.array([\"Club\", \"Diamond\", \"Heart\", \"Spade\"])\n",
    "Rank = np.array([\"A\", \"2\", \"3\", \"4\", \"5\", \"6\", \"7\", \"8\", \"9\", \"10\", \"J\", \"Q\", \"K\"])\n",
    "Deck = []\n",
    "for i in np.arange(4):\n",
    "    for j in np.arange(13):\n",
    "        Deck.append(Suit[i] + \" \" + Rank[j])\n",
    "\n",
    "\n",
    "# initialize empty hand for each player\n",
    "# eg. [ [], [] , [] ]\n",
    "Hand = []\n",
    "for i in np.arange(player_number):\n",
    "    Hand.append([])\n",
    "\n",
    "\n",
    "# Draw first two cards for everyone\n",
    "card_left = 52\n",
    "for round in range(2):\n",
    "    for i in np.arange(player_number):\n",
    "        draw = np.random.randint(card_left)\n",
    "        Hand[i].append(Deck[draw])       \n",
    "        Deck.pop(draw)\n",
    "        card_left -= 1\n",
    "\n",
    "\n",
    "# initialize decision for each player\n",
    "# eg. [ [], [] , [] ]\n",
    "decision = []\n",
    "for i in np.arange(player_number):\n",
    "    decision.append([\"Yes\"])\n",
    "\n",
    "\n",
    "# Finalize everyone's hand\n",
    "for round in range(4):\n",
    "    for t in range(player_number):\n",
    "        print(Hand[t])\n",
    "        if decision[t][-1] == \"Yes\":\n",
    "            d = input(\"Player\"+ str(t) +\": Draw another card? Yes/No\")\n",
    "            decision[t].append(d)\n",
    "            if d == \"Yes\":\n",
    "                draw = np.random.randint(card_left)\n",
    "                Hand[t].append(Deck[draw])\n",
    "                Deck.pop(draw)\n",
    "                card_left -= 1\n",
    "\n",
    "\n",
    "\n",
    "print(Hand)\n",
    "# print(Deck)\n",
    "\n",
    "# while True:\n",
    "#     input(\"Draw another card? Yes/No\")\n",
    "#     \n",
    "\n",
    "#     card_left = 52 - player_number*2\n",
    "\n"
   ]
  },
  {
   "cell_type": "code",
   "execution_count": 107,
   "metadata": {},
   "outputs": [
    {
     "data": {
      "text/plain": [
       "True"
      ]
     },
     "execution_count": 107,
     "metadata": {},
     "output_type": "execute_result"
    }
   ],
   "source": [
    "3 in [2,3,4]"
   ]
  }
 ],
 "metadata": {
  "kernelspec": {
   "display_name": "Python 3",
   "language": "python",
   "name": "python3"
  },
  "language_info": {
   "codemirror_mode": {
    "name": "ipython",
    "version": 3
   },
   "file_extension": ".py",
   "mimetype": "text/x-python",
   "name": "python",
   "nbconvert_exporter": "python",
   "pygments_lexer": "ipython3",
   "version": "3.10.7 (tags/v3.10.7:6cc6b13, Sep  5 2022, 14:08:36) [MSC v.1933 64 bit (AMD64)]"
  },
  "orig_nbformat": 4,
  "vscode": {
   "interpreter": {
    "hash": "2469a70536e4d2335a2ea8907942d0699c37342a371ac185bdb5b0aa6f073890"
   }
  }
 },
 "nbformat": 4,
 "nbformat_minor": 2
}
